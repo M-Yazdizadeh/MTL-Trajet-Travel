{
 "cells": [
  {
   "cell_type": "code",
   "execution_count": 18,
   "id": "7139acc9-3c27-4c2d-837b-a19e036c367b",
   "metadata": {},
   "outputs": [],
   "source": [
    "import pandas as pd\n",
    "import numpy as np\n",
    "import matplotlib.pyplot as plt\n",
    "from IPython.display import display, Markdown\n"
   ]
  },
  {
   "cell_type": "code",
   "execution_count": 19,
   "id": "1a6a6d64-b8d1-4b0e-b1a8-6b66492c90a8",
   "metadata": {},
   "outputs": [
    {
     "data": {
      "text/markdown": [
       "\n",
       "# Model Training Results Summary\n",
       "\n",
       "This notebook summarizes the results of training and evaluating four machine learning models on the provided dataset:\n",
       "- PyTorch Neural Network\n",
       "- Decision Tree Classifier\n",
       "- Random Forest Classifier\n",
       "- Gradient Boosting (XGBoost)\n",
       "\n",
       "The performance metrics for each model were analyzed, and a detailed comparison was conducted. The models' strengths and weaknesses were highlighted, and recommendations were provided for practical use cases.\n"
      ],
      "text/plain": [
       "<IPython.core.display.Markdown object>"
      ]
     },
     "metadata": {},
     "output_type": "display_data"
    }
   ],
   "source": [
    "display(Markdown(\"\"\"\n",
    "# Model Training Results Summary\n",
    "\n",
    "This notebook summarizes the results of training and evaluating four machine learning models on the provided dataset:\n",
    "- PyTorch Neural Network\n",
    "- Decision Tree Classifier\n",
    "- Random Forest Classifier\n",
    "- Gradient Boosting (XGBoost)\n",
    "\n",
    "The performance metrics for each model were analyzed, and a detailed comparison was conducted. The models' strengths and weaknesses were highlighted, and recommendations were provided for practical use cases.\n",
    "\"\"\"))\n"
   ]
  },
  {
   "cell_type": "code",
   "execution_count": 30,
   "id": "d17e2576-3089-43c9-b937-ae461dacc628",
   "metadata": {},
   "outputs": [
    {
     "data": {
      "text/markdown": [
       "### Results Overview"
      ],
      "text/plain": [
       "<IPython.core.display.Markdown object>"
      ]
     },
     "metadata": {},
     "output_type": "display_data"
    },
    {
     "data": {
      "text/html": [
       "<div>\n",
       "<style scoped>\n",
       "    .dataframe tbody tr th:only-of-type {\n",
       "        vertical-align: middle;\n",
       "    }\n",
       "\n",
       "    .dataframe tbody tr th {\n",
       "        vertical-align: top;\n",
       "    }\n",
       "\n",
       "    .dataframe thead th {\n",
       "        text-align: right;\n",
       "    }\n",
       "</style>\n",
       "<table border=\"1\" class=\"dataframe\">\n",
       "  <thead>\n",
       "    <tr style=\"text-align: right;\">\n",
       "      <th></th>\n",
       "      <th>Model</th>\n",
       "      <th>Accuracy (%)</th>\n",
       "    </tr>\n",
       "  </thead>\n",
       "  <tbody>\n",
       "    <tr>\n",
       "      <th>0</th>\n",
       "      <td>PyTorch Neural Network</td>\n",
       "      <td>81</td>\n",
       "    </tr>\n",
       "    <tr>\n",
       "      <th>1</th>\n",
       "      <td>Decision Tree Classifier</td>\n",
       "      <td>93</td>\n",
       "    </tr>\n",
       "    <tr>\n",
       "      <th>2</th>\n",
       "      <td>Random Forest Classifier</td>\n",
       "      <td>96</td>\n",
       "    </tr>\n",
       "    <tr>\n",
       "      <th>3</th>\n",
       "      <td>Gradient Boosting (XGBoost)</td>\n",
       "      <td>97</td>\n",
       "    </tr>\n",
       "  </tbody>\n",
       "</table>\n",
       "</div>"
      ],
      "text/plain": [
       "                         Model  Accuracy (%)\n",
       "0       PyTorch Neural Network            81\n",
       "1     Decision Tree Classifier            93\n",
       "2     Random Forest Classifier            96\n",
       "3  Gradient Boosting (XGBoost)            97"
      ]
     },
     "metadata": {},
     "output_type": "display_data"
    }
   ],
   "source": [
    "# Summary table for results\n",
    "results_data = {\n",
    "    \"Model\": [\n",
    "        \"PyTorch Neural Network\",\n",
    "        \"Decision Tree Classifier\",\n",
    "        \"Random Forest Classifier\",\n",
    "        \"Gradient Boosting (XGBoost)\"\n",
    "    ],\n",
    "    \"Accuracy (%)\": [81, 93, 96, 97],\n",
    "    \n",
    "}\n",
    "\n",
    "results_df = pd.DataFrame(results_data)\n",
    "display(Markdown(\"### Results Overview\"))\n",
    "display(results_df)\n"
   ]
  },
  {
   "cell_type": "code",
   "execution_count": 24,
   "id": "cb7d76d2-4cba-49a4-b21a-2ea29d309e6a",
   "metadata": {},
   "outputs": [
    {
     "data": {
      "text/markdown": [
       "### PyTorch Neural Network"
      ],
      "text/plain": [
       "<IPython.core.display.Markdown object>"
      ]
     },
     "metadata": {},
     "output_type": "display_data"
    },
    {
     "data": {
      "text/markdown": [
       "\n",
       "- **Accuracy**: 81%\n",
       "- **Performance Details**:\n"
      ],
      "text/plain": [
       "<IPython.core.display.Markdown object>"
      ]
     },
     "metadata": {},
     "output_type": "display_data"
    },
    {
     "data": {
      "text/html": [
       "<div>\n",
       "<style scoped>\n",
       "    .dataframe tbody tr th:only-of-type {\n",
       "        vertical-align: middle;\n",
       "    }\n",
       "\n",
       "    .dataframe tbody tr th {\n",
       "        vertical-align: top;\n",
       "    }\n",
       "\n",
       "    .dataframe thead th {\n",
       "        text-align: right;\n",
       "    }\n",
       "</style>\n",
       "<table border=\"1\" class=\"dataframe\">\n",
       "  <thead>\n",
       "    <tr style=\"text-align: right;\">\n",
       "      <th></th>\n",
       "      <th>Class</th>\n",
       "      <th>Precision</th>\n",
       "      <th>Recall</th>\n",
       "      <th>F1-Score</th>\n",
       "    </tr>\n",
       "  </thead>\n",
       "  <tbody>\n",
       "    <tr>\n",
       "      <th>0</th>\n",
       "      <td>Bicycle</td>\n",
       "      <td>0.70</td>\n",
       "      <td>0.71</td>\n",
       "      <td>0.70</td>\n",
       "    </tr>\n",
       "    <tr>\n",
       "      <th>1</th>\n",
       "      <td>Car / Motorbike</td>\n",
       "      <td>0.86</td>\n",
       "      <td>0.62</td>\n",
       "      <td>0.72</td>\n",
       "    </tr>\n",
       "    <tr>\n",
       "      <th>2</th>\n",
       "      <td>Public Transport</td>\n",
       "      <td>0.70</td>\n",
       "      <td>0.41</td>\n",
       "      <td>0.51</td>\n",
       "    </tr>\n",
       "    <tr>\n",
       "      <th>3</th>\n",
       "      <td>Public Transport + Car / Motorbike</td>\n",
       "      <td>0.74</td>\n",
       "      <td>0.87</td>\n",
       "      <td>0.80</td>\n",
       "    </tr>\n",
       "    <tr>\n",
       "      <th>4</th>\n",
       "      <td>Walking</td>\n",
       "      <td>0.76</td>\n",
       "      <td>0.87</td>\n",
       "      <td>0.81</td>\n",
       "    </tr>\n",
       "    <tr>\n",
       "      <th>5</th>\n",
       "      <td>Walking + Bicycle</td>\n",
       "      <td>0.93</td>\n",
       "      <td>0.98</td>\n",
       "      <td>0.95</td>\n",
       "    </tr>\n",
       "    <tr>\n",
       "      <th>6</th>\n",
       "      <td>Walking + Car / Motorbike + Bicycle</td>\n",
       "      <td>0.99</td>\n",
       "      <td>1.00</td>\n",
       "      <td>0.99</td>\n",
       "    </tr>\n",
       "    <tr>\n",
       "      <th>7</th>\n",
       "      <td>Walking + Public Transport</td>\n",
       "      <td>0.64</td>\n",
       "      <td>0.80</td>\n",
       "      <td>0.71</td>\n",
       "    </tr>\n",
       "    <tr>\n",
       "      <th>8</th>\n",
       "      <td>Walking + Public Transport + Bicycle</td>\n",
       "      <td>0.96</td>\n",
       "      <td>0.99</td>\n",
       "      <td>0.97</td>\n",
       "    </tr>\n",
       "  </tbody>\n",
       "</table>\n",
       "</div>"
      ],
      "text/plain": [
       "                                  Class  Precision  Recall  F1-Score\n",
       "0                               Bicycle       0.70    0.71      0.70\n",
       "1                       Car / Motorbike       0.86    0.62      0.72\n",
       "2                      Public Transport       0.70    0.41      0.51\n",
       "3    Public Transport + Car / Motorbike       0.74    0.87      0.80\n",
       "4                               Walking       0.76    0.87      0.81\n",
       "5                     Walking + Bicycle       0.93    0.98      0.95\n",
       "6   Walking + Car / Motorbike + Bicycle       0.99    1.00      0.99\n",
       "7            Walking + Public Transport       0.64    0.80      0.71\n",
       "8  Walking + Public Transport + Bicycle       0.96    0.99      0.97"
      ]
     },
     "metadata": {},
     "output_type": "display_data"
    }
   ],
   "source": [
    "# Display PyTorch results\n",
    "display(Markdown(\"### PyTorch Neural Network\"))\n",
    "display(Markdown(\"\"\"\n",
    "- **Accuracy**: 81%\n",
    "- **Performance Details**:\n",
    "\"\"\"))\n",
    "\n",
    "# PyTorch classification report data\n",
    "pytorch_data = {\n",
    "    \"Class\": [\n",
    "        \"Bicycle\", \"Car / Motorbike\", \"Public Transport\",\n",
    "        \"Public Transport + Car / Motorbike\", \"Walking\",\n",
    "        \"Walking + Bicycle\", \"Walking + Car / Motorbike + Bicycle\",\n",
    "        \"Walking + Public Transport\", \"Walking + Public Transport + Bicycle\"\n",
    "    ],\n",
    "    \"Precision\": [0.70, 0.86, 0.70, 0.74, 0.76, 0.93, 0.99, 0.64, 0.96],\n",
    "    \"Recall\": [0.71, 0.62, 0.41, 0.87, 0.87, 0.98, 1.00, 0.80, 0.99],\n",
    "    \"F1-Score\": [0.70, 0.72, 0.51, 0.80, 0.81, 0.95, 0.99, 0.71, 0.97]\n",
    "}\n",
    "\n",
    "pytorch_df = pd.DataFrame(pytorch_data)\n",
    "display(pytorch_df)\n"
   ]
  },
  {
   "cell_type": "code",
   "execution_count": 25,
   "id": "0b53824a-c8d2-4fa5-9023-bd53b0c2f6bf",
   "metadata": {},
   "outputs": [
    {
     "data": {
      "text/markdown": [
       "### Decision Tree Classifier"
      ],
      "text/plain": [
       "<IPython.core.display.Markdown object>"
      ]
     },
     "metadata": {},
     "output_type": "display_data"
    },
    {
     "data": {
      "text/markdown": [
       "\n",
       "- **Accuracy**: 93%\n",
       "- **Performance Details**:\n"
      ],
      "text/plain": [
       "<IPython.core.display.Markdown object>"
      ]
     },
     "metadata": {},
     "output_type": "display_data"
    },
    {
     "data": {
      "text/html": [
       "<div>\n",
       "<style scoped>\n",
       "    .dataframe tbody tr th:only-of-type {\n",
       "        vertical-align: middle;\n",
       "    }\n",
       "\n",
       "    .dataframe tbody tr th {\n",
       "        vertical-align: top;\n",
       "    }\n",
       "\n",
       "    .dataframe thead th {\n",
       "        text-align: right;\n",
       "    }\n",
       "</style>\n",
       "<table border=\"1\" class=\"dataframe\">\n",
       "  <thead>\n",
       "    <tr style=\"text-align: right;\">\n",
       "      <th></th>\n",
       "      <th>Class</th>\n",
       "      <th>Precision</th>\n",
       "      <th>Recall</th>\n",
       "      <th>F1-Score</th>\n",
       "    </tr>\n",
       "  </thead>\n",
       "  <tbody>\n",
       "    <tr>\n",
       "      <th>0</th>\n",
       "      <td>Bicycle</td>\n",
       "      <td>0.85</td>\n",
       "      <td>0.85</td>\n",
       "      <td>0.85</td>\n",
       "    </tr>\n",
       "    <tr>\n",
       "      <th>1</th>\n",
       "      <td>Car / Motorbike</td>\n",
       "      <td>0.89</td>\n",
       "      <td>0.89</td>\n",
       "      <td>0.89</td>\n",
       "    </tr>\n",
       "    <tr>\n",
       "      <th>2</th>\n",
       "      <td>Public Transport</td>\n",
       "      <td>0.85</td>\n",
       "      <td>0.83</td>\n",
       "      <td>0.84</td>\n",
       "    </tr>\n",
       "    <tr>\n",
       "      <th>3</th>\n",
       "      <td>Public Transport + Car / Motorbike</td>\n",
       "      <td>0.94</td>\n",
       "      <td>0.94</td>\n",
       "      <td>0.94</td>\n",
       "    </tr>\n",
       "    <tr>\n",
       "      <th>4</th>\n",
       "      <td>Walking</td>\n",
       "      <td>0.95</td>\n",
       "      <td>0.96</td>\n",
       "      <td>0.95</td>\n",
       "    </tr>\n",
       "    <tr>\n",
       "      <th>5</th>\n",
       "      <td>Walking + Bicycle</td>\n",
       "      <td>0.99</td>\n",
       "      <td>0.99</td>\n",
       "      <td>0.99</td>\n",
       "    </tr>\n",
       "    <tr>\n",
       "      <th>6</th>\n",
       "      <td>Walking + Car / Motorbike + Bicycle</td>\n",
       "      <td>1.00</td>\n",
       "      <td>1.00</td>\n",
       "      <td>1.00</td>\n",
       "    </tr>\n",
       "    <tr>\n",
       "      <th>7</th>\n",
       "      <td>Walking + Public Transport</td>\n",
       "      <td>0.89</td>\n",
       "      <td>0.90</td>\n",
       "      <td>0.90</td>\n",
       "    </tr>\n",
       "    <tr>\n",
       "      <th>8</th>\n",
       "      <td>Walking + Public Transport + Bicycle</td>\n",
       "      <td>0.99</td>\n",
       "      <td>1.00</td>\n",
       "      <td>0.99</td>\n",
       "    </tr>\n",
       "  </tbody>\n",
       "</table>\n",
       "</div>"
      ],
      "text/plain": [
       "                                  Class  Precision  Recall  F1-Score\n",
       "0                               Bicycle       0.85    0.85      0.85\n",
       "1                       Car / Motorbike       0.89    0.89      0.89\n",
       "2                      Public Transport       0.85    0.83      0.84\n",
       "3    Public Transport + Car / Motorbike       0.94    0.94      0.94\n",
       "4                               Walking       0.95    0.96      0.95\n",
       "5                     Walking + Bicycle       0.99    0.99      0.99\n",
       "6   Walking + Car / Motorbike + Bicycle       1.00    1.00      1.00\n",
       "7            Walking + Public Transport       0.89    0.90      0.90\n",
       "8  Walking + Public Transport + Bicycle       0.99    1.00      0.99"
      ]
     },
     "metadata": {},
     "output_type": "display_data"
    }
   ],
   "source": [
    "# Display Decision Tree results\n",
    "display(Markdown(\"### Decision Tree Classifier\"))\n",
    "display(Markdown(\"\"\"\n",
    "- **Accuracy**: 93%\n",
    "- **Performance Details**:\n",
    "\"\"\"))\n",
    "\n",
    "# Decision Tree classification report data\n",
    "dt_data = {\n",
    "    \"Class\": [\n",
    "        \"Bicycle\", \"Car / Motorbike\", \"Public Transport\",\n",
    "        \"Public Transport + Car / Motorbike\", \"Walking\",\n",
    "        \"Walking + Bicycle\", \"Walking + Car / Motorbike + Bicycle\",\n",
    "        \"Walking + Public Transport\", \"Walking + Public Transport + Bicycle\"\n",
    "    ],\n",
    "    \"Precision\": [0.85, 0.89, 0.85, 0.94, 0.95, 0.99, 1.00, 0.89, 0.99],\n",
    "    \"Recall\": [0.85, 0.89, 0.83, 0.94, 0.96, 0.99, 1.00, 0.90, 1.00],\n",
    "    \"F1-Score\": [0.85, 0.89, 0.84, 0.94, 0.95, 0.99, 1.00, 0.90, 0.99]\n",
    "}\n",
    "\n",
    "dt_df = pd.DataFrame(dt_data)\n",
    "display(dt_df)\n"
   ]
  },
  {
   "cell_type": "code",
   "execution_count": 26,
   "id": "b1a5cbf3-0866-4e68-9562-9e89d3bed527",
   "metadata": {},
   "outputs": [
    {
     "data": {
      "text/markdown": [
       "### Random Forest Classifier"
      ],
      "text/plain": [
       "<IPython.core.display.Markdown object>"
      ]
     },
     "metadata": {},
     "output_type": "display_data"
    },
    {
     "data": {
      "text/markdown": [
       "\n",
       "- **Accuracy**: 96%\n",
       "- **Performance Details**:\n"
      ],
      "text/plain": [
       "<IPython.core.display.Markdown object>"
      ]
     },
     "metadata": {},
     "output_type": "display_data"
    },
    {
     "data": {
      "text/html": [
       "<div>\n",
       "<style scoped>\n",
       "    .dataframe tbody tr th:only-of-type {\n",
       "        vertical-align: middle;\n",
       "    }\n",
       "\n",
       "    .dataframe tbody tr th {\n",
       "        vertical-align: top;\n",
       "    }\n",
       "\n",
       "    .dataframe thead th {\n",
       "        text-align: right;\n",
       "    }\n",
       "</style>\n",
       "<table border=\"1\" class=\"dataframe\">\n",
       "  <thead>\n",
       "    <tr style=\"text-align: right;\">\n",
       "      <th></th>\n",
       "      <th>Class</th>\n",
       "      <th>Precision</th>\n",
       "      <th>Recall</th>\n",
       "      <th>F1-Score</th>\n",
       "    </tr>\n",
       "  </thead>\n",
       "  <tbody>\n",
       "    <tr>\n",
       "      <th>0</th>\n",
       "      <td>Bicycle</td>\n",
       "      <td>0.91</td>\n",
       "      <td>0.92</td>\n",
       "      <td>0.91</td>\n",
       "    </tr>\n",
       "    <tr>\n",
       "      <th>1</th>\n",
       "      <td>Car / Motorbike</td>\n",
       "      <td>0.98</td>\n",
       "      <td>0.91</td>\n",
       "      <td>0.94</td>\n",
       "    </tr>\n",
       "    <tr>\n",
       "      <th>2</th>\n",
       "      <td>Public Transport</td>\n",
       "      <td>0.92</td>\n",
       "      <td>0.89</td>\n",
       "      <td>0.91</td>\n",
       "    </tr>\n",
       "    <tr>\n",
       "      <th>3</th>\n",
       "      <td>Public Transport + Car / Motorbike</td>\n",
       "      <td>0.96</td>\n",
       "      <td>0.97</td>\n",
       "      <td>0.96</td>\n",
       "    </tr>\n",
       "    <tr>\n",
       "      <th>4</th>\n",
       "      <td>Walking</td>\n",
       "      <td>0.96</td>\n",
       "      <td>0.98</td>\n",
       "      <td>0.97</td>\n",
       "    </tr>\n",
       "    <tr>\n",
       "      <th>5</th>\n",
       "      <td>Walking + Bicycle</td>\n",
       "      <td>0.99</td>\n",
       "      <td>1.00</td>\n",
       "      <td>0.99</td>\n",
       "    </tr>\n",
       "    <tr>\n",
       "      <th>6</th>\n",
       "      <td>Walking + Car / Motorbike + Bicycle</td>\n",
       "      <td>1.00</td>\n",
       "      <td>1.00</td>\n",
       "      <td>1.00</td>\n",
       "    </tr>\n",
       "    <tr>\n",
       "      <th>7</th>\n",
       "      <td>Walking + Public Transport</td>\n",
       "      <td>0.91</td>\n",
       "      <td>0.95</td>\n",
       "      <td>0.93</td>\n",
       "    </tr>\n",
       "    <tr>\n",
       "      <th>8</th>\n",
       "      <td>Walking + Public Transport + Bicycle</td>\n",
       "      <td>0.99</td>\n",
       "      <td>1.00</td>\n",
       "      <td>0.99</td>\n",
       "    </tr>\n",
       "  </tbody>\n",
       "</table>\n",
       "</div>"
      ],
      "text/plain": [
       "                                  Class  Precision  Recall  F1-Score\n",
       "0                               Bicycle       0.91    0.92      0.91\n",
       "1                       Car / Motorbike       0.98    0.91      0.94\n",
       "2                      Public Transport       0.92    0.89      0.91\n",
       "3    Public Transport + Car / Motorbike       0.96    0.97      0.96\n",
       "4                               Walking       0.96    0.98      0.97\n",
       "5                     Walking + Bicycle       0.99    1.00      0.99\n",
       "6   Walking + Car / Motorbike + Bicycle       1.00    1.00      1.00\n",
       "7            Walking + Public Transport       0.91    0.95      0.93\n",
       "8  Walking + Public Transport + Bicycle       0.99    1.00      0.99"
      ]
     },
     "metadata": {},
     "output_type": "display_data"
    }
   ],
   "source": [
    "# Display Random Forest results\n",
    "display(Markdown(\"### Random Forest Classifier\"))\n",
    "display(Markdown(\"\"\"\n",
    "- **Accuracy**: 96%\n",
    "- **Performance Details**:\n",
    "\"\"\"))\n",
    "\n",
    "# Random Forest classification report data\n",
    "rf_data = {\n",
    "    \"Class\": [\n",
    "        \"Bicycle\", \"Car / Motorbike\", \"Public Transport\",\n",
    "        \"Public Transport + Car / Motorbike\", \"Walking\",\n",
    "        \"Walking + Bicycle\", \"Walking + Car / Motorbike + Bicycle\",\n",
    "        \"Walking + Public Transport\", \"Walking + Public Transport + Bicycle\"\n",
    "    ],\n",
    "    \"Precision\": [0.91, 0.98, 0.92, 0.96, 0.96, 0.99, 1.00, 0.91, 0.99],\n",
    "    \"Recall\": [0.92, 0.91, 0.89, 0.97, 0.98, 1.00, 1.00, 0.95, 1.00],\n",
    "    \"F1-Score\": [0.91, 0.94, 0.91, 0.96, 0.97, 0.99, 1.00, 0.93, 0.99]\n",
    "}\n",
    "\n",
    "rf_df = pd.DataFrame(rf_data)\n",
    "display(rf_df)\n"
   ]
  },
  {
   "cell_type": "code",
   "execution_count": 27,
   "id": "d38daa9f-ccbc-41f3-8fd6-bb947cb9ba5e",
   "metadata": {},
   "outputs": [
    {
     "data": {
      "text/markdown": [
       "### Gradient Boosting (XGBoost)"
      ],
      "text/plain": [
       "<IPython.core.display.Markdown object>"
      ]
     },
     "metadata": {},
     "output_type": "display_data"
    },
    {
     "data": {
      "text/markdown": [
       "\n",
       "- **Accuracy**: 97%\n",
       "- **Performance Details**:\n"
      ],
      "text/plain": [
       "<IPython.core.display.Markdown object>"
      ]
     },
     "metadata": {},
     "output_type": "display_data"
    },
    {
     "data": {
      "text/html": [
       "<div>\n",
       "<style scoped>\n",
       "    .dataframe tbody tr th:only-of-type {\n",
       "        vertical-align: middle;\n",
       "    }\n",
       "\n",
       "    .dataframe tbody tr th {\n",
       "        vertical-align: top;\n",
       "    }\n",
       "\n",
       "    .dataframe thead th {\n",
       "        text-align: right;\n",
       "    }\n",
       "</style>\n",
       "<table border=\"1\" class=\"dataframe\">\n",
       "  <thead>\n",
       "    <tr style=\"text-align: right;\">\n",
       "      <th></th>\n",
       "      <th>Class</th>\n",
       "      <th>Precision</th>\n",
       "      <th>Recall</th>\n",
       "      <th>F1-Score</th>\n",
       "    </tr>\n",
       "  </thead>\n",
       "  <tbody>\n",
       "    <tr>\n",
       "      <th>0</th>\n",
       "      <td>Bicycle</td>\n",
       "      <td>0.93</td>\n",
       "      <td>0.93</td>\n",
       "      <td>0.93</td>\n",
       "    </tr>\n",
       "    <tr>\n",
       "      <th>1</th>\n",
       "      <td>Car / Motorbike</td>\n",
       "      <td>0.98</td>\n",
       "      <td>0.93</td>\n",
       "      <td>0.95</td>\n",
       "    </tr>\n",
       "    <tr>\n",
       "      <th>2</th>\n",
       "      <td>Public Transport</td>\n",
       "      <td>0.93</td>\n",
       "      <td>0.92</td>\n",
       "      <td>0.92</td>\n",
       "    </tr>\n",
       "    <tr>\n",
       "      <th>3</th>\n",
       "      <td>Public Transport + Car / Motorbike</td>\n",
       "      <td>0.97</td>\n",
       "      <td>0.97</td>\n",
       "      <td>0.97</td>\n",
       "    </tr>\n",
       "    <tr>\n",
       "      <th>4</th>\n",
       "      <td>Walking</td>\n",
       "      <td>0.97</td>\n",
       "      <td>0.98</td>\n",
       "      <td>0.98</td>\n",
       "    </tr>\n",
       "    <tr>\n",
       "      <th>5</th>\n",
       "      <td>Walking + Bicycle</td>\n",
       "      <td>0.99</td>\n",
       "      <td>1.00</td>\n",
       "      <td>1.00</td>\n",
       "    </tr>\n",
       "    <tr>\n",
       "      <th>6</th>\n",
       "      <td>Walking + Car / Motorbike + Bicycle</td>\n",
       "      <td>1.00</td>\n",
       "      <td>1.00</td>\n",
       "      <td>1.00</td>\n",
       "    </tr>\n",
       "    <tr>\n",
       "      <th>7</th>\n",
       "      <td>Walking + Public Transport</td>\n",
       "      <td>0.93</td>\n",
       "      <td>0.95</td>\n",
       "      <td>0.94</td>\n",
       "    </tr>\n",
       "    <tr>\n",
       "      <th>8</th>\n",
       "      <td>Walking + Public Transport + Bicycle</td>\n",
       "      <td>0.99</td>\n",
       "      <td>1.00</td>\n",
       "      <td>1.00</td>\n",
       "    </tr>\n",
       "  </tbody>\n",
       "</table>\n",
       "</div>"
      ],
      "text/plain": [
       "                                  Class  Precision  Recall  F1-Score\n",
       "0                               Bicycle       0.93    0.93      0.93\n",
       "1                       Car / Motorbike       0.98    0.93      0.95\n",
       "2                      Public Transport       0.93    0.92      0.92\n",
       "3    Public Transport + Car / Motorbike       0.97    0.97      0.97\n",
       "4                               Walking       0.97    0.98      0.98\n",
       "5                     Walking + Bicycle       0.99    1.00      1.00\n",
       "6   Walking + Car / Motorbike + Bicycle       1.00    1.00      1.00\n",
       "7            Walking + Public Transport       0.93    0.95      0.94\n",
       "8  Walking + Public Transport + Bicycle       0.99    1.00      1.00"
      ]
     },
     "metadata": {},
     "output_type": "display_data"
    }
   ],
   "source": [
    "# Display XGBoost results\n",
    "display(Markdown(\"### Gradient Boosting (XGBoost)\"))\n",
    "display(Markdown(\"\"\"\n",
    "- **Accuracy**: 97%\n",
    "- **Performance Details**:\n",
    "\"\"\"))\n",
    "\n",
    "# XGBoost classification report data\n",
    "xgb_data = {\n",
    "    \"Class\": [\n",
    "        \"Bicycle\", \"Car / Motorbike\", \"Public Transport\",\n",
    "        \"Public Transport + Car / Motorbike\", \"Walking\",\n",
    "        \"Walking + Bicycle\", \"Walking + Car / Motorbike + Bicycle\",\n",
    "        \"Walking + Public Transport\", \"Walking + Public Transport + Bicycle\"\n",
    "    ],\n",
    "    \"Precision\": [0.93, 0.98, 0.93, 0.97, 0.97, 0.99, 1.00, 0.93, 0.99],\n",
    "    \"Recall\": [0.93, 0.93, 0.92, 0.97, 0.98, 1.00, 1.00, 0.95, 1.00],\n",
    "    \"F1-Score\": [0.93, 0.95, 0.92, 0.97, 0.98, 1.00, 1.00, 0.94, 1.00]\n",
    "}\n",
    "\n",
    "xgb_df = pd.DataFrame(xgb_data)\n",
    "display(xgb_df)\n"
   ]
  },
  {
   "cell_type": "code",
   "execution_count": 28,
   "id": "18e3e85c-ed5c-4aad-95c3-f487dfccd8bd",
   "metadata": {},
   "outputs": [
    {
     "data": {
      "image/png": "[encoded data removed]",
      "text/plain": [
       "<Figure size 640x480 with 1 Axes>"
      ]
     },
     "metadata": {},
     "output_type": "display_data"
    },
    {
     "data": {
      "text/markdown": [
       "### Model Comparison Summary"
      ],
      "text/plain": [
       "<IPython.core.display.Markdown object>"
      ]
     },
     "metadata": {},
     "output_type": "display_data"
    },
    {
     "data": {
      "text/html": [
       "<div>\n",
       "<style scoped>\n",
       "    .dataframe tbody tr th:only-of-type {\n",
       "        vertical-align: middle;\n",
       "    }\n",
       "\n",
       "    .dataframe tbody tr th {\n",
       "        vertical-align: top;\n",
       "    }\n",
       "\n",
       "    .dataframe thead th {\n",
       "        text-align: right;\n",
       "    }\n",
       "</style>\n",
       "<table border=\"1\" class=\"dataframe\">\n",
       "  <thead>\n",
       "    <tr style=\"text-align: right;\">\n",
       "      <th></th>\n",
       "      <th>Model</th>\n",
       "      <th>Accuracy (%)</th>\n",
       "      <th>Strengths</th>\n",
       "      <th>Weaknesses</th>\n",
       "    </tr>\n",
       "  </thead>\n",
       "  <tbody>\n",
       "    <tr>\n",
       "      <th>0</th>\n",
       "      <td>PyTorch Neural Network</td>\n",
       "      <td>81</td>\n",
       "      <td>Performs well on combined categories.</td>\n",
       "      <td>Struggles with class imbalance.</td>\n",
       "    </tr>\n",
       "    <tr>\n",
       "      <th>1</th>\n",
       "      <td>Decision Tree Classifier</td>\n",
       "      <td>93</td>\n",
       "      <td>High accuracy; interpretable</td>\n",
       "      <td>Overfitting potential.</td>\n",
       "    </tr>\n",
       "    <tr>\n",
       "      <th>2</th>\n",
       "      <td>Random Forest Classifier</td>\n",
       "      <td>96</td>\n",
       "      <td>Strong generalization</td>\n",
       "      <td>Computationally expensive.</td>\n",
       "    </tr>\n",
       "    <tr>\n",
       "      <th>3</th>\n",
       "      <td>Gradient Boosting (XGBoost)</td>\n",
       "      <td>97</td>\n",
       "      <td>Highest performance</td>\n",
       "      <td>Computationally expensive.</td>\n",
       "    </tr>\n",
       "  </tbody>\n",
       "</table>\n",
       "</div>"
      ],
      "text/plain": [
       "                         Model  Accuracy (%)  \\\n",
       "0       PyTorch Neural Network            81   \n",
       "1     Decision Tree Classifier            93   \n",
       "2     Random Forest Classifier            96   \n",
       "3  Gradient Boosting (XGBoost)            97   \n",
       "\n",
       "                               Strengths                       Weaknesses  \n",
       "0  Performs well on combined categories.  Struggles with class imbalance.  \n",
       "1           High accuracy; interpretable           Overfitting potential.  \n",
       "2                  Strong generalization       Computationally expensive.  \n",
       "3                    Highest performance       Computationally expensive.  "
      ]
     },
     "metadata": {},
     "output_type": "display_data"
    }
   ],
   "source": [
    "# Visualization of accuracy\n",
    "accuracy_data = [81, 93, 96, 97]\n",
    "models = [\"PyTorch\", \"Decision Tree\", \"Random Forest\", \"XGBoost\"]\n",
    "\n",
    "plt.bar(models, accuracy_data)\n",
    "plt.title(\"Model Accuracy Comparison\")\n",
    "plt.ylabel(\"Accuracy (%)\")\n",
    "plt.xlabel(\"Models\")\n",
    "plt.ylim(75, 100)\n",
    "plt.show()\n",
    "\n",
    "# Summary Table for comparison\n",
    "display(Markdown(\"### Model Comparison Summary\"))\n",
    "display(results_df)\n"
   ]
  },
  {
   "cell_type": "code",
   "execution_count": 29,
   "id": "00ccc996-600d-4784-9c22-b5399d072fd4",
   "metadata": {},
   "outputs": [
    {
     "data": {
      "text/markdown": [
       "\n",
       "### Conclusion\n",
       "\n",
       "- **Gradient Boosting (XGBoost)** achieved the highest accuracy (**97%**) and demonstrated robust performance across all classes. It is recommended for deployment where computational resources are sufficient.\n",
       "- **Random Forest** achieved a close second accuracy (**96%**) and offers a simpler and faster alternative with similar robustness.\n",
       "- **Decision Tree** performed well (**93%**) and remains a viable option for interpretable models with lower computational costs.\n",
       "- **PyTorch Neural Network** showed moderate performance (**81%**) and requires further tuning to match ensemble models' performance.\n",
       "\n",
       "The choice of the model depends on the use case, computational resources, and the need for interpretability.\n"
      ],
      "text/plain": [
       "<IPython.core.display.Markdown object>"
      ]
     },
     "metadata": {},
     "output_type": "display_data"
    }
   ],
   "source": [
    "display(Markdown(\"\"\"\n",
    "### Conclusion\n",
    "\n",
    "- **Gradient Boosting (XGBoost)** achieved the highest accuracy (**97%**) and demonstrated robust performance across all classes. It is recommended for deployment where computational resources are sufficient.\n",
    "- **Random Forest** achieved a close second accuracy (**96%**) and offers a simpler and faster alternative with similar robustness.\n",
    "- **Decision Tree** performed well (**93%**) and remains a viable option for interpretable models with lower computational costs.\n",
    "- **PyTorch Neural Network** showed moderate performance (**81%**) and requires further tuning to match ensemble models' performance.\n",
    "\n",
    "The choice of the model depends on the use case, computational resources, and the need for interpretability.\n",
    "\"\"\"))\n"
   ]
  },
  {
   "cell_type": "code",
   "execution_count": null,
   "id": "dd6ac17a-c6b6-4d3b-a12d-f130a7ae986f",
   "metadata": {},
   "outputs": [],
   "source": []
  }
 ],
 "metadata": {
  "kernelspec": {
   "display_name": "Python 3 (ipykernel)",
   "language": "python",
   "name": "python3"
  },
  "language_info": {
   "codemirror_mode": {
    "name": "ipython",
    "version": 3
   },
   "file_extension": ".py",
   "mimetype": "text/x-python",
   "name": "python",
   "nbconvert_exporter": "python",
   "pygments_lexer": "ipython3",
   "version": "3.11.7"
  }
 },
 "nbformat": 4,
 "nbformat_minor": 5
}
